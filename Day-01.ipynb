{
 "cells": [
  {
   "cell_type": "markdown",
   "metadata": {},
   "source": [
    "Day -01 - ML"
   ]
  },
  {
   "cell_type": "markdown",
   "metadata": {},
   "source": [
    "Machine Learning is a field of Artifical Intelligence where a large amount of data is provided to a machine to learn from and make generalizations from it."
   ]
  },
  {
   "cell_type": "markdown",
   "metadata": {},
   "source": [
    "1. Machine learning (ML) powers some of the most important technologies we use, from translation apps to autonomous vehicles.\n",
    "\n",
    "2. ML offers a new way to solve problems, answer complex questions, and create new content.\n",
    "\n",
    "3. In basic terms, ML is the process of training a piece of software, called a model, to make useful predictions or generate content from data."
   ]
  },
  {
   "cell_type": "markdown",
   "metadata": {},
   "source": [
    "ML Example:\n",
    "\n",
    "**APP that predicts rainfall**\n",
    "to create an app to predict rainfall, traditionally, we'd create a physics-based representation of earth's atmosphere and surface, it'd require massive computations such as fluid dynamics equations. so it will  be difficult. \n",
    "\n",
    "**ML approach**\n",
    "we would give an ML model enormous amounts of weather data until the ML model eventually learned the mathematical relationship between weather patterns that produce differing amounts of rain. We would then give the model the current weather data, and it would predict the amount of rain.\n",
    "\n",
    "that sounds way less computationally expensive and hassle less."
   ]
  },
  {
   "cell_type": "markdown",
   "metadata": {},
   "source": [
    "**Types of ML Systems**\n",
    "\n",
    "1. Supervised Learning: Takes a lot of data and sees them, and then based on it generates output for unseen data. It does so by discovering connections and relations between the given information and the outputs that is most often right. \n",
    "In a simple sense, \n",
    "Once the student has trained on enough old exams, the student is well prepared to take a new exam. These ML systems are \"supervised\" in the sense that a human gives the ML system data with the known correct results.\n",
    "\n",
    "**Types:**\n",
    "\n",
    "- Two of the most common use cases for supervised learning are regression and classification.\n",
    "\n",
    "**1.1 Regression**\n",
    "A regression model predicts a numeric value. For example, a weather model that predicts the amount of rain, in inches or millimeters, is a regression model.\n",
    "\n",
    "**1.2 Classification**\n",
    "Classification models predict the likelihood that something belongs to a category. Unlike regression models, whose output is a number, classification models output a value that states whether or not something belongs to a particular category. For example, classification models are used to predict if an email is spam or if a photo contains a cat.\n",
    "\n",
    "Classification models are divided into two groups: **binary classification and multiclass classification.** Binary classification models output a value from a class that contains only two values, for example, a model that outputs either rain or no rain. Multiclass classification models output a value from a class that contains more than two values, for example, a model that can output either rain, hail, snow, or sleet.\n",
    "\n",
    "2. Unsupervised Learning: Unsupervised learning models make predictions by being given data that does not contain any correct answers. An unsupervised learning model's goal is to identify meaningful patterns among the data. In other words, the model has no hints on how to categorize each piece of data, but instead it must infer its own rules.\n",
    "\n",
    "A commonly used unsupervised learning model employs a technique called clustering. The model finds data points that demarcate natural groupings.\n",
    "\n",
    "**Difference between clustering and classification:**\n",
    "Clustering differs from classification because the categories aren't defined by you. For example, an unsupervised model might cluster a weather dataset based on temperature, revealing segmentations that define the seasons. You might then attempt to name those clusters based on your understanding of the dataset.\n",
    "\n",
    "\n",
    "3. Reinforcement Learning: Reinforcement learning models make predictions by getting rewards or penalties based on actions performed within an environment. A reinforcement learning system generates a policy that defines the best strategy for getting the most rewards.\n",
    "\n",
    "Reinforcement learning is used to train robots to perform tasks, like walking around a room, and software programs like AlphaGo to play the game of Go.\n",
    "\n",
    "4. Generative AI: Generative AI is a class of models that creates content from user input. For example, generative AI can create unique images, music compositions, and jokes; it can summarize articles, explain how to perform a task, or edit a photo.\n",
    "\n",
    "Generative AI can take a variety of inputs and create a variety of outputs, like text, images, audio, and video. It can also take and create combinations of these. For example, a model can take an image as input and create an image and text as output, or take an image and text as input and create a video as output.\n",
    "\n",
    "We can discuss generative models by their inputs and outputs, typically written as \"type of input\"-to-\"type of output.\" For example, the following is a partial list of some inputs and outputs for generative models:\n",
    "\n",
    "Text-to-text\n",
    "Text-to-image\n",
    "Text-to-video\n",
    "Text-to-code\n",
    "Text-to-speech\n",
    "Image and text-to-imageGenerative AI is a class of models that creates content from user input. For example, generative AI can create unique images, music compositions, and jokes; it can summarize articles, explain how to perform a task, or edit a photo.\n",
    "\n",
    "Generative AI can take a variety of inputs and create a variety of outputs, like text, images, audio, and video. It can also take and create combinations of these. For example, a model can take an image as input and create an image and text as output, or take an image and text as input and create a video as output.\n",
    "\n",
    "We can discuss generative models by their inputs and outputs, typically written as \"type of input\"-to-\"type of output.\" For example, the following is a partial list of some inputs and outputs for generative models:\n",
    "\n",
    "**4.1 Text-to-text**\n",
    "**4.2 Text-to-image**\n",
    "**4.3 Text-to-video**\n",
    "**4.4 Text-to-code**\n",
    "**4.5 Text-to-speech**\n",
    "**4.6 Image and text-to-image**\n",
    "\n",
    "**How does generative AI work?**\n",
    "At a high-level, generative models learn patterns in data with the goal to produce new but similar data. Generative models are like the following:\n",
    "\n",
    "Comedians who learn to imitate others by observing people's behaviors and style of speaking\n",
    "Artists who learn to paint in a particular style by studying lots of paintings in that style\n",
    "Cover bands that learn to sound like a specific music group by listening to lots of music by that group\n",
    "To produce unique and creative outputs, generative models are initially trained using an unsupervised approach, where the model learns to mimic the data it's trained on. The model is sometimes trained further using supervised or reinforcement learning on specific data related to tasks the model might be asked to perform, for example, summarize an article or edit a photo.\n",
    "\n",
    "Generative AI is a quickly evolving technology with new use cases constantly being discovered. For example, generative models are helping businesses refine their ecommerce product images by automatically removing distracting backgrounds or improving the quality of low-resolution images."
   ]
  },
  {
   "cell_type": "markdown",
   "metadata": {},
   "source": [
    "**Note: Most of the content as of theory of Machine Learning, is properly explained on the Google for Machine Learning. These theories are also the notes that I took/noted form Google for Machine learning website during my learning phase. The linked is pinned below. Do check out that website for detailled explanations.**"
   ]
  },
  {
   "cell_type": "markdown",
   "metadata": {},
   "source": [
    "**Link: https://developers.google.com/machine-learning**"
   ]
  }
 ],
 "metadata": {
  "kernelspec": {
   "display_name": "Python 3",
   "language": "python",
   "name": "python3"
  },
  "language_info": {
   "codemirror_mode": {
    "name": "ipython",
    "version": 3
   },
   "file_extension": ".py",
   "mimetype": "text/x-python",
   "name": "python",
   "nbconvert_exporter": "python",
   "pygments_lexer": "ipython3",
   "version": "3.9.6"
  }
 },
 "nbformat": 4,
 "nbformat_minor": 2
}
